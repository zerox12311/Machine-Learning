{
 "cells": [
  {
   "cell_type": "code",
   "execution_count": 8,
   "metadata": {},
   "outputs": [],
   "source": [
    "import glob\n",
    "import os\n",
    "import pandas as pd\n",
    "\n",
    "fs = glob.glob('chinese_news_trans/*/*.txt')\n",
    "# os.path.split('chinese_news_trans\\\\交通\\\\41.TXT')\n",
    "# os.path.dirname('chinese_news_trans\\\\交通\\\\41.TXT')\n",
    "cats = []\n",
    "contents = []\n",
    "for fname in fs:\n",
    "    fn = os.path.split(fname)[-1]\n",
    "    with open(fname, \"r\", encoding='utf-8') as f:\n",
    "        content = f.read()\n",
    "        contents.append(content)\n",
    "    dn = os.path.split(fname)[0]\n",
    "    dn = os.path.split(dn)[-1]\n",
    "    cats.append(dn)\n",
    "    \n",
    "train_df = pd.DataFrame({\n",
    "    'content': contents,\n",
    "    'ans': cats\n",
    "})"
   ]
  },
  {
   "cell_type": "code",
   "execution_count": 6,
   "metadata": {},
   "outputs": [
    {
     "data": {
      "text/html": [
       "<div>\n",
       "<style scoped>\n",
       "    .dataframe tbody tr th:only-of-type {\n",
       "        vertical-align: middle;\n",
       "    }\n",
       "\n",
       "    .dataframe tbody tr th {\n",
       "        vertical-align: top;\n",
       "    }\n",
       "\n",
       "    .dataframe thead th {\n",
       "        text-align: right;\n",
       "    }\n",
       "</style>\n",
       "<table border=\"1\" class=\"dataframe\">\n",
       "  <thead>\n",
       "    <tr style=\"text-align: right;\">\n",
       "      <th></th>\n",
       "      <th>content</th>\n",
       "      <th>ans</th>\n",
       "    </tr>\n",
       "  </thead>\n",
       "  <tbody>\n",
       "  </tbody>\n",
       "</table>\n",
       "</div>"
      ],
      "text/plain": [
       "Empty DataFrame\n",
       "Columns: [content, ans]\n",
       "Index: []"
      ]
     },
     "execution_count": 6,
     "metadata": {},
     "output_type": "execute_result"
    }
   ],
   "source": [
    "fs = glob.glob(\"chinese_news_test/*/*.[tT][xX][tT]\")\n",
    "cats = []\n",
    "contents = []\n",
    "for fname in fs:\n",
    "    fn = os.path.split(fname)[-1]\n",
    "    with open(fname, \"r\", encoding=\"utf-8\") as f:\n",
    "        content = f.read()\n",
    "        contents.append(content)\n",
    "    dn = os.path.split(fname)[0]\n",
    "    dn = os.path.split(dn)[-1]\n",
    "    cats.append(dn)\n",
    "test_df = pd.DataFrame({\n",
    "    \"content\":contents,\n",
    "    \"ans\":cats\n",
    "})\n",
    "test_df"
   ]
  }
 ],
 "metadata": {
  "kernelspec": {
   "display_name": "Python 3",
   "language": "python",
   "name": "python3"
  },
  "language_info": {
   "codemirror_mode": {
    "name": "ipython",
    "version": 3
   },
   "file_extension": ".py",
   "mimetype": "text/x-python",
   "name": "python",
   "nbconvert_exporter": "python",
   "pygments_lexer": "ipython3",
   "version": "3.7.0"
  }
 },
 "nbformat": 4,
 "nbformat_minor": 2
}
